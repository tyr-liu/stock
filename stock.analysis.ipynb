{
 "cells": [
  {
   "cell_type": "markdown",
   "metadata": {},
   "source": [
    "## 读取交割单"
   ]
  },
  {
   "cell_type": "code",
   "execution_count": 15,
   "metadata": {},
   "outputs": [
    {
     "name": "stdout",
     "output_type": "stream",
     "text": [
      "       成交日期    证券代码    证券名称 买卖标志    成交价格  成交数量     成交金额      发生金额    佣金  \\\n",
      "0  20190710  510500  500ETF   买入   5.235  6900  36121.5 -36128.72  7.22   \n",
      "1  20190710  510500  500ETF   买入   5.236  4000  20944.0 -20949.00  5.00   \n",
      "2  20190710     878    云南铜业   买入   9.900  2000  19800.0 -19805.00  5.00   \n",
      "3  20190711     878    云南铜业   卖出  10.070 -1000  10070.0  10054.93  5.00   \n",
      "4  20190711     878    云南铜业   卖出  10.160 -1000  10160.0  10144.84  5.00   \n",
      "\n",
      "     印花税  过户费  其他费     成交编号        股东代码    备注    手续费  \n",
      "0   0.00  0.0    0  4091881  A534878327  证券买入   7.22  \n",
      "1   0.00  0.0    0  6083502  A534878327  证券买入   5.00  \n",
      "2   0.00  0.0    0    99386   268955131  证券买入   5.00  \n",
      "3  10.07  0.0    0    31351   268955131  证券卖出  15.07  \n",
      "4  10.16  0.0    0    81106   268955131  证券卖出  15.16  \n"
     ]
    }
   ],
   "source": [
    "import pandas as pd\n",
    "\n",
    "df = pd.read_csv('交割单.csv')\n",
    "print(df.head())"
   ]
  },
  {
   "cell_type": "markdown",
   "metadata": {},
   "source": [
    "## 单个标的收益情况"
   ]
  },
  {
   "cell_type": "code",
   "execution_count": 16,
   "metadata": {},
   "outputs": [
    {
     "name": "stdout",
     "output_type": "stream",
     "text": [
      "     证券名称     发生金额\n",
      "6    万达电影 -6694.69\n",
      "50   安信信托 -6616.34\n",
      "32  半导体50 -4430.55\n",
      "7    世嘉科技 -3291.95\n",
      "11   中国人寿 -3017.28\n",
      "..    ...      ...\n",
      "44   均胜电子  4418.44\n",
      "81   美年健康  5297.35\n",
      "59   拓普集团  6833.51\n",
      "74   环旭电子  8190.13\n",
      "18   中曼石油  9644.01\n",
      "\n",
      "[99 rows x 2 columns]\n"
     ]
    }
   ],
   "source": [
    "dfEarn = df.groupby('证券名称')['发生金额'].sum().reset_index().sort_values('发生金额')\n",
    "\n",
    "print(dfEarn)"
   ]
  },
  {
   "cell_type": "markdown",
   "metadata": {},
   "source": [
    "## 单个标的收益分布"
   ]
  },
  {
   "cell_type": "code",
   "execution_count": 18,
   "metadata": {},
   "outputs": [
    {
     "data": {
      "image/png": "[encoded data removed]",
      "text/plain": [
       "<Figure size 432x288 with 1 Axes>"
      ]
     },
     "metadata": {
      "needs_background": "light"
     },
     "output_type": "display_data"
    }
   ],
   "source": [
    "import matplotlib.pyplot as plt\n",
    "\n",
    "plt.bar(dfEarn['证券名称'], dfEarn['发生金额'])\n",
    "\n",
    "plt.show()"
   ]
  },
  {
   "cell_type": "markdown",
   "metadata": {},
   "source": [
    "## 一些简单统计"
   ]
  },
  {
   "cell_type": "code",
   "execution_count": 47,
   "metadata": {},
   "outputs": [
    {
     "name": "stdout",
     "output_type": "stream",
     "text": [
      "完成收益： 1081.609999999946\n",
      "平均正收益： 1633.4602380952372\n",
      "平均负收益： -1184.6266666666672\n",
      "操作标的数： 99\n",
      "成功率： 0.42424242424242425\n"
     ]
    }
   ],
   "source": [
    "import numpy as np\n",
    "\n",
    "print('完成收益：', np.sum(dfEarn['发生金额']))\n",
    "\n",
    "positive = list(filter(lambda x: x >= 0, dfEarn['发生金额']))\n",
    "\n",
    "print('平均正收益：', np.mean(positive))\n",
    "\n",
    "negative = list(filter(lambda x: x < 0, dfEarn['发生金额']))\n",
    "\n",
    "print('平均负收益：', np.mean(negative))\n",
    "\n",
    "print('操作标的数：', len(dfEarn))\n",
    "\n",
    "print('成功率：', len(positive) / (len(dfEarn['发生金额'])))\n"
   ]
  },
  {
   "cell_type": "markdown",
   "metadata": {},
   "source": [
    "## 持仓时长和收益的关系"
   ]
  },
  {
   "cell_type": "code",
   "execution_count": 149,
   "metadata": {},
   "outputs": [
    {
     "name": "stdout",
     "output_type": "stream",
     "text": [
      "         0   1        2        3\n",
      "94    华宝油气   0   -21.74    21.74\n",
      "0     云南铜业   1   394.77    35.23\n",
      "114   天味食品   1   163.87    59.13\n",
      "107   信隆健康   1  -695.59    28.59\n",
      "106   浪潮信息   1   432.81    23.19\n",
      "..     ...  ..      ...      ...\n",
      "35    盛达资源  18  3778.70   196.30\n",
      "71   证券ETF  19  1000.75    54.65\n",
      "95    安信信托  23 -6616.34   136.34\n",
      "90    长安汽车  28  4022.88    74.12\n",
      "62    天齐锂业  51  -251.05  1012.05\n",
      "\n",
      "[178 rows x 4 columns]\n"
     ]
    }
   ],
   "source": [
    "import datetime\n",
    "from dateutil.parser import parse\n",
    "\n",
    "buys = []\n",
    "batches = []\n",
    "for index, row in df.iterrows():\n",
    "#     if row[2] != '均胜电子': continue\n",
    "    buyed = list(filter(lambda x: x[2] == row[2], buys))\n",
    "    if len(buyed) > 0:\n",
    "        buyedOne = buyed[0]\n",
    "        left = buyedOne[5] + row[5]\n",
    "#         print(row[2], left)\n",
    "        if left == 0:\n",
    "            batches.append([buyedOne[2], (parse(str(row[0])) - parse(str(buyedOne[0]))).days, buyedOne[7] + row[7], buyedOne[15] + row[15]])\n",
    "            buys = list(filter(lambda x: x[2] != row[2], buys))\n",
    "        else:\n",
    "            buyedOne[5] = left # 成交数量累积\n",
    "            buyedOne[7] += row[7] # 发生金额累积\n",
    "            buyedOne[15] += row[15] # 手续费累积\n",
    "    else:\n",
    "        buys.append(row)\n",
    "        \n",
    "#     print(buys);\n",
    "#     print(batches);\n",
    "#         if index == 20: break;\n",
    "        \n",
    "pdDuration = pd.DataFrame(batches).sort_values(1)\n",
    "print(pdDuration)\n",
    "\n",
    "pdDuration.to_csv('batches.csv')"
   ]
  },
  {
   "cell_type": "code",
   "execution_count": 150,
   "metadata": {},
   "outputs": [
    {
     "data": {
      "image/png": "[encoded data removed]",
      "text/plain": [
       "<Figure size 432x288 with 1 Axes>"
      ]
     },
     "metadata": {
      "needs_background": "light"
     },
     "output_type": "display_data"
    }
   ],
   "source": [
    "gpDuration = pdDuration.groupby(1)[2]\n",
    "\n",
    "series = gpDuration.size().reset_index()\n",
    "\n",
    "plt.bar(series[1], series[2])\n",
    "plt.show()"
   ]
  },
  {
   "cell_type": "code",
   "execution_count": 151,
   "metadata": {},
   "outputs": [
    {
     "data": {
      "image/png": "[encoded data removed]",
      "text/plain": [
       "<Figure size 432x288 with 1 Axes>"
      ]
     },
     "metadata": {
      "needs_background": "light"
     },
     "output_type": "display_data"
    }
   ],
   "source": [
    "plt.scatter(pdDuration[1], pdDuration[2])\n",
    "plt.show()"
   ]
  },
  {
   "cell_type": "code",
   "execution_count": null,
   "metadata": {},
   "outputs": [],
   "source": []
  }
 ],
 "metadata": {
  "kernelspec": {
   "display_name": "Python 3",
   "language": "python",
   "name": "python3"
  },
  "language_info": {
   "codemirror_mode": {
    "name": "ipython",
    "version": 3
   },
   "file_extension": ".py",
   "mimetype": "text/x-python",
   "name": "python",
   "nbconvert_exporter": "python",
   "pygments_lexer": "ipython3",
   "version": "3.7.6"
  }
 },
 "nbformat": 4,
 "nbformat_minor": 4
}
